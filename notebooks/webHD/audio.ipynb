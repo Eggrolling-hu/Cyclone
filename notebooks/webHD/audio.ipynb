{
 "cells": [
  {
   "cell_type": "code",
   "execution_count": 69,
   "metadata": {},
   "outputs": [],
   "source": [
    "from dataclasses import dataclass\n",
    "from datetime import datetime\n",
    "import json"
   ]
  },
  {
   "cell_type": "code",
   "execution_count": 60,
   "metadata": {},
   "outputs": [],
   "source": [
    "class DFAFilter():\n",
    "\n",
    "    '''Filter Messages from keywords\n",
    "    Use DFA to keep algorithm perform constantly\n",
    "    >>> f = DFAFilter()\n",
    "    >>> f.add(\"sexy\")\n",
    "    >>> f.filter(\"hello sexy baby\")\n",
    "    hello **** baby\n",
    "    '''\n",
    "\n",
    "    def __init__(self):\n",
    "        self.keyword_chains = {}\n",
    "        self.delimit = '\\x00'\n",
    "\n",
    "    def add(self, keyword):\n",
    "        # if not isinstance(keyword, unicode):\n",
    "        #     keyword = keyword.decode('utf-8')\n",
    "        if isinstance(keyword, str):\n",
    "            pass\n",
    "        else:\n",
    "            keyword = keyword.decode('utf-8')\n",
    "        keyword = keyword.lower()\n",
    "        chars = keyword.strip()\n",
    "        if not chars:\n",
    "            return\n",
    "        level = self.keyword_chains\n",
    "        for i in range(len(chars)):\n",
    "            if chars[i] in level:\n",
    "                level = level[chars[i]]\n",
    "            else:\n",
    "                if not isinstance(level, dict):\n",
    "                    break\n",
    "                for j in range(i, len(chars)):\n",
    "                    level[chars[j]] = {}\n",
    "                    last_level, last_char = level, chars[j]\n",
    "                    level = level[chars[j]]\n",
    "                last_level[last_char] = {self.delimit: 0}\n",
    "                break\n",
    "        if i == len(chars) - 1:\n",
    "            level[self.delimit] = 0\n",
    "\n",
    "    def parse(self, path):\n",
    "        with open(path) as f:\n",
    "            for keyword in f:\n",
    "                self.add(keyword.strip())\n",
    "\n",
    "    def filter(self, message, repl=\"*\"):\n",
    "        if isinstance(message, str):\n",
    "            pass\n",
    "        else:\n",
    "            message = message.decode('utf-8')\n",
    "        message = message.lower()\n",
    "        ret = []\n",
    "        start = 0\n",
    "        while start < len(message):\n",
    "            level = self.keyword_chains\n",
    "            step_ins = 0\n",
    "            for char in message[start:]:\n",
    "                if char in level:\n",
    "                    step_ins += 1\n",
    "                    if self.delimit not in level[char]:\n",
    "                        level = level[char]\n",
    "                    else:\n",
    "                        ret.append(repl * step_ins)\n",
    "                        start += step_ins - 1\n",
    "                        break\n",
    "                else:\n",
    "                    ret.append(message[start])\n",
    "                    break\n",
    "            else:\n",
    "                ret.append(message[start])\n",
    "            start += 1\n",
    "\n",
    "        return ''.join(ret)\n",
    "        "
   ]
  },
  {
   "cell_type": "code",
   "execution_count": 61,
   "metadata": {},
   "outputs": [],
   "source": [
    "with open(\"files/words.json\", \"r\") as f:\n",
    "    origin_data = json.load(f)\n",
    "    data = json.loads(origin_data['data'])\n"
   ]
  },
  {
   "cell_type": "code",
   "execution_count": 62,
   "metadata": {},
   "outputs": [],
   "source": [
    "def convert_millis(millis):\n",
    "    millis = int(millis)\n",
    "    seconds = (millis / 1000) % 60\n",
    "    minutes = (millis / (1000 * 60)) % 60\n",
    "    hours = (millis / (1000 * 60 * 60)) % 24\n",
    "    return \"{:02d}:{:02d}:{:02d}\".format(int(hours), int(minutes),\n",
    "                                         int(seconds))\n"
   ]
  },
  {
   "cell_type": "code",
   "execution_count": 63,
   "metadata": {},
   "outputs": [],
   "source": [
    "@dataclass\n",
    "class Audio:\n",
    "    bg: int\n",
    "    ed: int\n",
    "    onebest: str\n",
    "    speaker: int"
   ]
  },
  {
   "cell_type": "code",
   "execution_count": 64,
   "metadata": {},
   "outputs": [],
   "source": [
    "audio_list = [\n",
    "    Audio(bg=convert_millis(e[\"bg\"]),\n",
    "          ed=convert_millis(e[\"ed\"]),\n",
    "          onebest=str(e[\"onebest\"]),\n",
    "          speaker=int(e[\"speaker\"])) for e in data\n",
    "]\n"
   ]
  },
  {
   "cell_type": "code",
   "execution_count": 65,
   "metadata": {},
   "outputs": [],
   "source": [
    "sensitive_words = [\"考试\", \"真题\"]"
   ]
  },
  {
   "cell_type": "code",
   "execution_count": 66,
   "metadata": {},
   "outputs": [],
   "source": [
    "hd_filter = DFAFilter()\n",
    "for e in sensitive_words:\n",
    "    hd_filter.add(e)"
   ]
  },
  {
   "cell_type": "code",
   "execution_count": 67,
   "metadata": {},
   "outputs": [
    {
     "name": "stdout",
     "output_type": "stream",
     "text": [
      "敏感语音/所有语音: 2/2009\n"
     ]
    }
   ],
   "source": [
    "invalid_audio_list = []\n",
    "for e in audio_list:\n",
    "    if \"&\" not in hd_filter.filter(e.onebest, repl=\"&\"):\n",
    "        continue\n",
    "    invalid_audio_list.append(e)\n",
    "\n",
    "print(\"敏感语音/所有语音: {}/{}\".format(invalid_audio_list.__len__(), audio_list.__len__()))"
   ]
  },
  {
   "cell_type": "code",
   "execution_count": 68,
   "metadata": {},
   "outputs": [
    {
     "name": "stdout",
     "output_type": "stream",
     "text": [
      "Audio(bg='00:56:59', ed='00:57:08', onebest='想说大家后面这个期末考试的时候是嗯可以可以到时候参考一下，就是你看到s三a的相关图的时候，', speaker=0)\n",
      "Audio(bg='01:06:07', ed='01:06:12', onebest='那最后的最后的那个考试有可能会有', speaker=0)\n"
     ]
    }
   ],
   "source": [
    "for e in invalid_audio_list:\n",
    "    print(e)"
   ]
  },
  {
   "cell_type": "code",
   "execution_count": 80,
   "metadata": {},
   "outputs": [
    {
     "name": "stdout",
     "output_type": "stream",
     "text": [
      "Audio(bg='01:11:11', ed='01:11:13', onebest='我们大概过一下这次的一个作业，', speaker=0)\n",
      "Audio(bg='01:14:47', ed='01:14:50', onebest='嗯等一下这个 Website刷出来，啊', speaker=0)\n",
      "\n",
      "静默时间/总体时间: 1163.0/7390.0      15.74%\n"
     ]
    }
   ],
   "source": [
    "total_mute_duration = 0.0\n",
    "for i, _ in enumerate(audio_list):\n",
    "    if i == 0:\n",
    "        continue\n",
    "    mute_duration = (\n",
    "        datetime.strptime(audio_list[i].bg, '%H:%M:%S') -\n",
    "        datetime.strptime(audio_list[i - 1].ed, '%H:%M:%S')).total_seconds()\n",
    "    total_mute_duration += mute_duration\n",
    "    if mute_duration < 60.0:\n",
    "        continue\n",
    "    print(audio_list[i - 1])\n",
    "    print(audio_list[i])\n",
    "    print()\n",
    "\n",
    "audio_duration = (datetime.strptime(audio_list[-1].ed, '%H:%M:%S') -\n",
    "                  datetime.strptime('00:00:00', '%H:%M:%S')).total_seconds()\n",
    "print(\"静默时间/总体时间: {}/{}      {:.2f}%\".format(\n",
    "    total_mute_duration, audio_duration,\n",
    "    100 * total_mute_duration / audio_duration))\n"
   ]
  }
 ],
 "metadata": {
  "interpreter": {
   "hash": "3a21fef93d547261afdcfcd255c658fc985212ce0048248157956cdf608bad7f"
  },
  "kernelspec": {
   "display_name": "Python 3.8.3 ('py38')",
   "language": "python",
   "name": "python3"
  },
  "language_info": {
   "codemirror_mode": {
    "name": "ipython",
    "version": 3
   },
   "file_extension": ".py",
   "mimetype": "text/x-python",
   "name": "python",
   "nbconvert_exporter": "python",
   "pygments_lexer": "ipython3",
   "version": "3.8.3"
  },
  "orig_nbformat": 4
 },
 "nbformat": 4,
 "nbformat_minor": 2
}
